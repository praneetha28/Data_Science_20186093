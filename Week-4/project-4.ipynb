{
 "cells": [
  {
   "cell_type": "markdown",
   "metadata": {},
   "source": [
    "Import libraries:"
   ]
  },
  {
   "cell_type": "code",
   "execution_count": 6,
   "metadata": {},
   "outputs": [],
   "source": [
    "import numpy as np\n",
    "import pandas as pd\n",
    "import matplotlib\n",
    "\n",
    "import matplotlib.pyplot as plt\n",
    "from sklearn.linear_model import LogisticRegressionCV\n",
    "import sklearn.metrics as metrics\n",
    "from sklearn.preprocessing import PolynomialFeatures\n",
    "from sklearn.discriminant_analysis import LinearDiscriminantAnalysis\n",
    "from sklearn.discriminant_analysis import QuadraticDiscriminantAnalysis\n",
    "from sklearn.neighbors import KNeighborsClassifier\n",
    "from sklearn.tree import DecisionTreeClassifier\n",
    "from sklearn.model_selection import cross_val_score\n",
    "from sklearn.metrics import accuracy_score\n",
    "\n",
    "from sklearn.tree import export_graphviz\n",
    "from IPython.display import Image\n",
    "from IPython.display import display\n",
    "%matplotlib inline"
   ]
  },
  {
   "cell_type": "markdown",
   "metadata": {},
   "source": [
    "## Automated Breast Cancer Detection\n",
    "\n",
    "In this homework, we will consider the problem of early breast cancer detection from X-ray images. Specifically, given a candidate region of interest (ROI) from an X-ray image of a patient's breast, the goal is to predict if the region corresponds to a malignant tumor (label 1) or is normal (label 0). The training and test data sets for this problem is provided in the file `hw6_dataset.csv`. Each row in these files corresponds to a ROI in a patient's X-ray, with columns 1-117 containing features computed using standard image processing algorithms. The last column contains the class label, and is based on a radiologist's opinion or a biopsy. This data was obtained from the KDD Cup 2008 challenge.\n",
    "\n",
    "The data set contain a total of 69,098 candidate ROIs, of which only 409 are malignant, while the remaining are all normal. \n",
    "\n",
    "*Note*: be careful of reading/treating column names and row names in this data set."
   ]
  },
  {
   "cell_type": "markdown",
   "metadata": {},
   "source": [
    "## Question 1: Beyond Classification Accuracy\n",
    "\n",
    "\n",
    "0.  Split the data set into a training set and a testing set.  The training set should be 75% of the original data set, and the testing set 25%.  Use `np.random.seed(9001)`.\n",
    "\n",
    "1. Fit a logistic regression classifier to the training set and report the  accuracy of the classifier on the test set. You should use $L_2$ regularization in logistic regression, with the regularization parameter tuned using cross-validation. \n",
    "    1. How does the fitted model compare with a classifier that predicts 'normal' (label 0) on all patients? \n",
    "    2. Do you think the difference in the classification accuracies are large enough to declare logistic regression as a better classifier than the all 0's classifier? Why or why not?\n",
    "    \n",
    "For applications with imbalanced class labels, in this case when there are many more healthy subjects ($Y=0$) than those with cancer ($Y=1$), the classification accuracy may not be the best metric to evaluate a classifier's performance. As an alternative, we could analyze the confusion table for the classifier. \n",
    "\n",
    "<ol start=\"3\">\n",
    "<li> Compute the confusion table for both the fitted classifier and the classifier that predicts all 0's.</li>\n",
    "<li> Using the entries of the confusion table compute the *true positive rate* and the *true negative rate* for the two classifiers. Explain what these evaluation metrics mean for the specific task of cancer detection. Based on the observed metrics, comment on whether the fitted model is better than the all 0's classifier.</li>\n",
    "<li> What is the *false positive rate* of the fitted classifier, and how is it related to its true positive and true negative rate? Why is a classifier with high false positive rate undesirable for a cancer detection task?</li>\n",
    "</ol>\n",
    "*Hint:* You may use the `metrics.confusion_matrix` function to compute the confusion matrix for a classification model."
   ]
  },
  {
   "cell_type": "markdown",
   "metadata": {},
   "source": [
    "The difference between the two models is substantial in light of the number of patients. The fraction of a percent that \n",
    "the logistic scored higher translates to a number of missclassifications. Further the number of false negatives is \n",
    "decreased from 104 to 1. This is the number of people who tested negative despite having cancer, the costliest error \n",
    "for our purposes. Having a classifier that predicts all people to not have cancer surely has a high accuracy rate given \n",
    "the rarity of cancer, but it does nothing to help find those rare cases that are so critical to find. On the other extreme are\n",
    "false positives. Predicting all positive makes sure that we find all cases of cancer by predicting that everyone has it. This\n",
    "is also useless as it does nothing to screen patients. False positives in cancer can cause patient anxiety and monetary costs for \n",
    "further tests, while false negatives are lethal.\n"
   ]
  },
  {
   "cell_type": "code",
   "execution_count": 10,
   "metadata": {},
   "outputs": [],
   "source": [
    "#Split the data set into a training set and a testing set\n",
    "np.random.seed(9001)\n",
    "df = pd.read_csv('hw6_dataset.csv')\n",
    "msk = np.random.rand(len(df)) < 0.75\n",
    "data_train = df[msk]\n",
    "data_test = df[~msk]\n",
    "orig_columns = list(data_train.columns.values)\n",
    "new_columns = []\n",
    "for x in range (len(orig_columns) - 1):\n",
    "    #print(orig_columns[x])\n",
    "    index_of_e = orig_columns[x].index('e')\n",
    "    revised_string = orig_columns[x][:index_of_e + 4]\n",
    "    #print(revised_string)\n",
    "    converted_string = float(revised_string)\n",
    "    new_columns.append(str(converted_string))\n",
    "new_columns.append('Class Label')\n",
    "#print(new_columns)\n",
    "data_train.columns = new_columns\n",
    "data_test.columns = new_columns\n",
    "data_train.head(10)\n",
    "\n",
    "y_train = data_train['Class Label'].values\n",
    "X_train = data_train.values\n",
    "y_train = y_train.reshape(len(y_train), 1)\n",
    "\n",
    "y_test = data_test['Class Label'].values\n",
    "X_test = data_test.values\n",
    "y_test = y_test.reshape(len(y_test), 1)\n",
    "\n"
   ]
  },
  {
   "cell_type": "code",
   "execution_count": 11,
   "metadata": {},
   "outputs": [
    {
     "data": {
      "text/html": [
       "<div>\n",
       "<style scoped>\n",
       "    .dataframe tbody tr th:only-of-type {\n",
       "        vertical-align: middle;\n",
       "    }\n",
       "\n",
       "    .dataframe tbody tr th {\n",
       "        vertical-align: top;\n",
       "    }\n",
       "\n",
       "    .dataframe thead th {\n",
       "        text-align: right;\n",
       "    }\n",
       "</style>\n",
       "<table border=\"1\" class=\"dataframe\">\n",
       "  <thead>\n",
       "    <tr style=\"text-align: right;\">\n",
       "      <th></th>\n",
       "      <th>-1.439999999999999891e-01</th>\n",
       "      <th>-1.429999999999999882e-01</th>\n",
       "      <th>-1.160000000000000059e-01</th>\n",
       "      <th>-1.029999999999999943e-01</th>\n",
       "      <th>2.260000000000000064e-01</th>\n",
       "      <th>2.099999999999999922e-01</th>\n",
       "      <th>-9.799999999999999822e-01</th>\n",
       "      <th>-7.800000000000000266e-01</th>\n",
       "      <th>-4.739999999999999769e-01</th>\n",
       "      <th>-4.470000000000000084e-01</th>\n",
       "      <th>...</th>\n",
       "      <th>9.250000000000000444e-01</th>\n",
       "      <th>5.160000000000000142e-01</th>\n",
       "      <th>3.439999999999999725e-01</th>\n",
       "      <th>9.060000000000000275e-01</th>\n",
       "      <th>-1.129999999999999893e+00</th>\n",
       "      <th>-5.520000000000000462e-01</th>\n",
       "      <th>5.530000000000000471e-01</th>\n",
       "      <th>-4.169999999999999818e-01</th>\n",
       "      <th>2.560000000000000053e-01</th>\n",
       "      <th>0.000000000000000000e+00</th>\n",
       "    </tr>\n",
       "  </thead>\n",
       "  <tbody>\n",
       "    <tr>\n",
       "      <th>0</th>\n",
       "      <td>-0.01100</td>\n",
       "      <td>0.138</td>\n",
       "      <td>-0.2230</td>\n",
       "      <td>-0.1730</td>\n",
       "      <td>0.188</td>\n",
       "      <td>0.284</td>\n",
       "      <td>-0.0522</td>\n",
       "      <td>-0.256</td>\n",
       "      <td>0.129</td>\n",
       "      <td>0.427</td>\n",
       "      <td>...</td>\n",
       "      <td>-0.593</td>\n",
       "      <td>0.452</td>\n",
       "      <td>0.00785</td>\n",
       "      <td>-0.533</td>\n",
       "      <td>-0.0789</td>\n",
       "      <td>0.705</td>\n",
       "      <td>0.906</td>\n",
       "      <td>0.216</td>\n",
       "      <td>-0.0723</td>\n",
       "      <td>0.0</td>\n",
       "    </tr>\n",
       "    <tr>\n",
       "      <th>1</th>\n",
       "      <td>0.21200</td>\n",
       "      <td>-0.313</td>\n",
       "      <td>0.2660</td>\n",
       "      <td>0.2320</td>\n",
       "      <td>-1.190</td>\n",
       "      <td>-1.150</td>\n",
       "      <td>-1.8100</td>\n",
       "      <td>-1.560</td>\n",
       "      <td>-1.250</td>\n",
       "      <td>-1.200</td>\n",
       "      <td>...</td>\n",
       "      <td>-0.816</td>\n",
       "      <td>1.570</td>\n",
       "      <td>0.39400</td>\n",
       "      <td>1.340</td>\n",
       "      <td>-1.1800</td>\n",
       "      <td>-2.700</td>\n",
       "      <td>-0.926</td>\n",
       "      <td>-2.650</td>\n",
       "      <td>-0.0447</td>\n",
       "      <td>0.0</td>\n",
       "    </tr>\n",
       "    <tr>\n",
       "      <th>2</th>\n",
       "      <td>0.21500</td>\n",
       "      <td>-0.184</td>\n",
       "      <td>0.0274</td>\n",
       "      <td>0.0494</td>\n",
       "      <td>0.443</td>\n",
       "      <td>0.463</td>\n",
       "      <td>-1.0500</td>\n",
       "      <td>-0.941</td>\n",
       "      <td>-0.531</td>\n",
       "      <td>-0.394</td>\n",
       "      <td>...</td>\n",
       "      <td>0.634</td>\n",
       "      <td>0.111</td>\n",
       "      <td>0.37100</td>\n",
       "      <td>0.859</td>\n",
       "      <td>-0.9930</td>\n",
       "      <td>-0.492</td>\n",
       "      <td>0.363</td>\n",
       "      <td>0.326</td>\n",
       "      <td>-0.0528</td>\n",
       "      <td>0.0</td>\n",
       "    </tr>\n",
       "    <tr>\n",
       "      <th>3</th>\n",
       "      <td>0.27900</td>\n",
       "      <td>-0.197</td>\n",
       "      <td>0.1270</td>\n",
       "      <td>0.0973</td>\n",
       "      <td>-0.213</td>\n",
       "      <td>-0.150</td>\n",
       "      <td>-1.3200</td>\n",
       "      <td>-0.994</td>\n",
       "      <td>-1.110</td>\n",
       "      <td>-1.090</td>\n",
       "      <td>...</td>\n",
       "      <td>-0.640</td>\n",
       "      <td>0.485</td>\n",
       "      <td>0.29500</td>\n",
       "      <td>0.403</td>\n",
       "      <td>-1.1200</td>\n",
       "      <td>-0.343</td>\n",
       "      <td>0.468</td>\n",
       "      <td>-0.820</td>\n",
       "      <td>0.4350</td>\n",
       "      <td>0.0</td>\n",
       "    </tr>\n",
       "    <tr>\n",
       "      <th>4</th>\n",
       "      <td>0.00922</td>\n",
       "      <td>-0.138</td>\n",
       "      <td>0.1690</td>\n",
       "      <td>0.1540</td>\n",
       "      <td>-0.391</td>\n",
       "      <td>-0.397</td>\n",
       "      <td>-1.6900</td>\n",
       "      <td>-1.450</td>\n",
       "      <td>-0.546</td>\n",
       "      <td>-0.527</td>\n",
       "      <td>...</td>\n",
       "      <td>-0.277</td>\n",
       "      <td>0.699</td>\n",
       "      <td>0.37100</td>\n",
       "      <td>0.481</td>\n",
       "      <td>-1.0600</td>\n",
       "      <td>-0.526</td>\n",
       "      <td>0.550</td>\n",
       "      <td>-0.284</td>\n",
       "      <td>0.1550</td>\n",
       "      <td>0.0</td>\n",
       "    </tr>\n",
       "  </tbody>\n",
       "</table>\n",
       "<p>5 rows × 118 columns</p>\n",
       "</div>"
      ],
      "text/plain": [
       "   -1.439999999999999891e-01  -1.429999999999999882e-01  \\\n",
       "0                   -0.01100                      0.138   \n",
       "1                    0.21200                     -0.313   \n",
       "2                    0.21500                     -0.184   \n",
       "3                    0.27900                     -0.197   \n",
       "4                    0.00922                     -0.138   \n",
       "\n",
       "   -1.160000000000000059e-01  -1.029999999999999943e-01  \\\n",
       "0                    -0.2230                    -0.1730   \n",
       "1                     0.2660                     0.2320   \n",
       "2                     0.0274                     0.0494   \n",
       "3                     0.1270                     0.0973   \n",
       "4                     0.1690                     0.1540   \n",
       "\n",
       "   2.260000000000000064e-01  2.099999999999999922e-01  \\\n",
       "0                     0.188                     0.284   \n",
       "1                    -1.190                    -1.150   \n",
       "2                     0.443                     0.463   \n",
       "3                    -0.213                    -0.150   \n",
       "4                    -0.391                    -0.397   \n",
       "\n",
       "   -9.799999999999999822e-01  -7.800000000000000266e-01  \\\n",
       "0                    -0.0522                     -0.256   \n",
       "1                    -1.8100                     -1.560   \n",
       "2                    -1.0500                     -0.941   \n",
       "3                    -1.3200                     -0.994   \n",
       "4                    -1.6900                     -1.450   \n",
       "\n",
       "   -4.739999999999999769e-01  -4.470000000000000084e-01  ...  \\\n",
       "0                      0.129                      0.427  ...   \n",
       "1                     -1.250                     -1.200  ...   \n",
       "2                     -0.531                     -0.394  ...   \n",
       "3                     -1.110                     -1.090  ...   \n",
       "4                     -0.546                     -0.527  ...   \n",
       "\n",
       "   9.250000000000000444e-01  5.160000000000000142e-01  \\\n",
       "0                    -0.593                     0.452   \n",
       "1                    -0.816                     1.570   \n",
       "2                     0.634                     0.111   \n",
       "3                    -0.640                     0.485   \n",
       "4                    -0.277                     0.699   \n",
       "\n",
       "   3.439999999999999725e-01  9.060000000000000275e-01  \\\n",
       "0                   0.00785                    -0.533   \n",
       "1                   0.39400                     1.340   \n",
       "2                   0.37100                     0.859   \n",
       "3                   0.29500                     0.403   \n",
       "4                   0.37100                     0.481   \n",
       "\n",
       "   -1.129999999999999893e+00  -5.520000000000000462e-01  \\\n",
       "0                    -0.0789                      0.705   \n",
       "1                    -1.1800                     -2.700   \n",
       "2                    -0.9930                     -0.492   \n",
       "3                    -1.1200                     -0.343   \n",
       "4                    -1.0600                     -0.526   \n",
       "\n",
       "   5.530000000000000471e-01  -4.169999999999999818e-01  \\\n",
       "0                     0.906                      0.216   \n",
       "1                    -0.926                     -2.650   \n",
       "2                     0.363                      0.326   \n",
       "3                     0.468                     -0.820   \n",
       "4                     0.550                     -0.284   \n",
       "\n",
       "   2.560000000000000053e-01  0.000000000000000000e+00  \n",
       "0                   -0.0723                       0.0  \n",
       "1                   -0.0447                       0.0  \n",
       "2                   -0.0528                       0.0  \n",
       "3                    0.4350                       0.0  \n",
       "4                    0.1550                       0.0  \n",
       "\n",
       "[5 rows x 118 columns]"
      ]
     },
     "execution_count": 11,
     "metadata": {},
     "output_type": "execute_result"
    }
   ],
   "source": [
    "df.head()"
   ]
  },
  {
   "cell_type": "code",
   "execution_count": 13,
   "metadata": {},
   "outputs": [],
   "source": [
    "np.random.seed(9001)"
   ]
  },
  {
   "cell_type": "code",
   "execution_count": 14,
   "metadata": {},
   "outputs": [
    {
     "data": {
      "text/plain": [
       "array([ True, False, False, ...,  True, False,  True])"
      ]
     },
     "execution_count": 14,
     "metadata": {},
     "output_type": "execute_result"
    }
   ],
   "source": [
    "msk = np.random.rand(len(df)) < 0.75\n",
    "msk"
   ]
  },
  {
   "cell_type": "code",
   "execution_count": 15,
   "metadata": {},
   "outputs": [],
   "source": [
    "data_train = df[msk]\n",
    "data_test = df[~msk]\n",
    "orig_columns = list(data_train.columns.values)\n",
    "new_columns = []"
   ]
  },
  {
   "cell_type": "code",
   "execution_count": 16,
   "metadata": {},
   "outputs": [],
   "source": [
    "for x in range (len(orig_columns) - 1):\n",
    "    #print(orig_columns[x])\n",
    "    index_of_e = orig_columns[x].index('e')\n",
    "    revised_string = orig_columns[x][:index_of_e + 4]\n",
    "    #print(revised_string)\n",
    "    converted_string = float(revised_string)\n",
    "    new_columns.append(str(converted_string))\n",
    "new_columns.append('Class Label')"
   ]
  },
  {
   "cell_type": "code",
   "execution_count": 17,
   "metadata": {},
   "outputs": [
    {
     "name": "stdout",
     "output_type": "stream",
     "text": [
      "['-0.144', '-0.143', '-0.116', '-0.103', '0.226', '0.21', '-0.98', '-0.78', '-0.474', '-0.447', '-0.143', '-0.0524', '0.26', '0.209', '-0.212', '0.57', '-0.939', '-0.398', '0.395', '0.414', '0.00498', '1.31', '-0.955', '0.706', '0.952', '0.81', '1.01', '-0.66', '0.813', '-0.429', '1.54', '0.171', '0.825', '0.755', '0.15', '0.505', '-0.235', '-0.219', '-0.128', '-1.03', '0.16', '0.259', '0.321', '0.536', '-0.466', '-0.25', '-1.27', '-0.744', '-0.736', '-1.24', '-0.726', '-1.39', '-0.631', '-0.0929', '-0.0882', '-0.0834', '-0.0745', '0.471', '0.907', '-0.749', '-1.24', '-0.741', '-0.72', '-0.707', '-0.698', '0.0627', '0.32', '-0.483', '0.677', '0.728', '-1.23', '0.776', '-0.669', '-0.159', '-0.162', '-0.169', '-0.656', '0.953', '0.408', '-0.982', '-0.986', '-0.137', '0.179', '0.267', '0.28', '-1.23', '-1.21', '-1.19', '0.448', '1.55', '1.55', '1.55', '0.357', '-0.945', '-0.137', '-1.28', '-1.41', '-0.896', '-0.667', '-1.01', '-0.56', '-0.563', '-0.566', '-0.804', '-0.618', '0.0344', '0.426', '-0.738', '0.925', '0.516', '0.344', '0.906', '-1.13', '-0.552', '0.553', '-0.417', '0.256', 'Class Label']\n"
     ]
    }
   ],
   "source": [
    "print(new_columns)"
   ]
  },
  {
   "cell_type": "code",
   "execution_count": 18,
   "metadata": {},
   "outputs": [
    {
     "data": {
      "text/html": [
       "<div>\n",
       "<style scoped>\n",
       "    .dataframe tbody tr th:only-of-type {\n",
       "        vertical-align: middle;\n",
       "    }\n",
       "\n",
       "    .dataframe tbody tr th {\n",
       "        vertical-align: top;\n",
       "    }\n",
       "\n",
       "    .dataframe thead th {\n",
       "        text-align: right;\n",
       "    }\n",
       "</style>\n",
       "<table border=\"1\" class=\"dataframe\">\n",
       "  <thead>\n",
       "    <tr style=\"text-align: right;\">\n",
       "      <th></th>\n",
       "      <th>-0.144</th>\n",
       "      <th>-0.143</th>\n",
       "      <th>-0.116</th>\n",
       "      <th>-0.103</th>\n",
       "      <th>0.226</th>\n",
       "      <th>0.21</th>\n",
       "      <th>-0.98</th>\n",
       "      <th>-0.78</th>\n",
       "      <th>-0.474</th>\n",
       "      <th>-0.447</th>\n",
       "      <th>...</th>\n",
       "      <th>0.925</th>\n",
       "      <th>0.516</th>\n",
       "      <th>0.344</th>\n",
       "      <th>0.906</th>\n",
       "      <th>-1.13</th>\n",
       "      <th>-0.552</th>\n",
       "      <th>0.553</th>\n",
       "      <th>-0.417</th>\n",
       "      <th>0.256</th>\n",
       "      <th>Class Label</th>\n",
       "    </tr>\n",
       "  </thead>\n",
       "  <tbody>\n",
       "    <tr>\n",
       "      <th>0</th>\n",
       "      <td>-0.0110</td>\n",
       "      <td>0.138</td>\n",
       "      <td>-0.223</td>\n",
       "      <td>-0.1730</td>\n",
       "      <td>0.188</td>\n",
       "      <td>0.284</td>\n",
       "      <td>-0.0522</td>\n",
       "      <td>-0.256</td>\n",
       "      <td>0.129</td>\n",
       "      <td>0.427</td>\n",
       "      <td>...</td>\n",
       "      <td>-0.593</td>\n",
       "      <td>0.4520</td>\n",
       "      <td>0.00785</td>\n",
       "      <td>-0.533</td>\n",
       "      <td>-0.0789</td>\n",
       "      <td>0.705</td>\n",
       "      <td>0.906</td>\n",
       "      <td>0.216</td>\n",
       "      <td>-0.0723</td>\n",
       "      <td>0.0</td>\n",
       "    </tr>\n",
       "    <tr>\n",
       "      <th>3</th>\n",
       "      <td>0.2790</td>\n",
       "      <td>-0.197</td>\n",
       "      <td>0.127</td>\n",
       "      <td>0.0973</td>\n",
       "      <td>-0.213</td>\n",
       "      <td>-0.150</td>\n",
       "      <td>-1.3200</td>\n",
       "      <td>-0.994</td>\n",
       "      <td>-1.110</td>\n",
       "      <td>-1.090</td>\n",
       "      <td>...</td>\n",
       "      <td>-0.640</td>\n",
       "      <td>0.4850</td>\n",
       "      <td>0.29500</td>\n",
       "      <td>0.403</td>\n",
       "      <td>-1.1200</td>\n",
       "      <td>-0.343</td>\n",
       "      <td>0.468</td>\n",
       "      <td>-0.820</td>\n",
       "      <td>0.4350</td>\n",
       "      <td>0.0</td>\n",
       "    </tr>\n",
       "    <tr>\n",
       "      <th>5</th>\n",
       "      <td>0.0569</td>\n",
       "      <td>0.192</td>\n",
       "      <td>0.302</td>\n",
       "      <td>0.2720</td>\n",
       "      <td>-0.484</td>\n",
       "      <td>-0.473</td>\n",
       "      <td>0.3480</td>\n",
       "      <td>0.256</td>\n",
       "      <td>-0.607</td>\n",
       "      <td>-0.355</td>\n",
       "      <td>...</td>\n",
       "      <td>0.206</td>\n",
       "      <td>-0.0599</td>\n",
       "      <td>-1.07000</td>\n",
       "      <td>-0.536</td>\n",
       "      <td>0.8640</td>\n",
       "      <td>0.527</td>\n",
       "      <td>0.282</td>\n",
       "      <td>0.817</td>\n",
       "      <td>-0.2830</td>\n",
       "      <td>0.0</td>\n",
       "    </tr>\n",
       "    <tr>\n",
       "      <th>6</th>\n",
       "      <td>0.0184</td>\n",
       "      <td>0.101</td>\n",
       "      <td>-0.681</td>\n",
       "      <td>-0.5900</td>\n",
       "      <td>1.530</td>\n",
       "      <td>1.500</td>\n",
       "      <td>-0.5560</td>\n",
       "      <td>-0.428</td>\n",
       "      <td>-0.583</td>\n",
       "      <td>-0.772</td>\n",
       "      <td>...</td>\n",
       "      <td>0.124</td>\n",
       "      <td>0.3070</td>\n",
       "      <td>0.35700</td>\n",
       "      <td>-0.380</td>\n",
       "      <td>0.1580</td>\n",
       "      <td>0.846</td>\n",
       "      <td>0.704</td>\n",
       "      <td>0.760</td>\n",
       "      <td>-0.1250</td>\n",
       "      <td>0.0</td>\n",
       "    </tr>\n",
       "    <tr>\n",
       "      <th>9</th>\n",
       "      <td>-0.0748</td>\n",
       "      <td>-0.432</td>\n",
       "      <td>0.923</td>\n",
       "      <td>0.7930</td>\n",
       "      <td>-1.040</td>\n",
       "      <td>-1.010</td>\n",
       "      <td>-1.9500</td>\n",
       "      <td>-1.560</td>\n",
       "      <td>-0.590</td>\n",
       "      <td>-0.575</td>\n",
       "      <td>...</td>\n",
       "      <td>-1.270</td>\n",
       "      <td>1.3600</td>\n",
       "      <td>0.38700</td>\n",
       "      <td>1.290</td>\n",
       "      <td>-1.2100</td>\n",
       "      <td>-2.050</td>\n",
       "      <td>-0.357</td>\n",
       "      <td>-2.540</td>\n",
       "      <td>0.7670</td>\n",
       "      <td>0.0</td>\n",
       "    </tr>\n",
       "  </tbody>\n",
       "</table>\n",
       "<p>5 rows × 118 columns</p>\n",
       "</div>"
      ],
      "text/plain": [
       "   -0.144  -0.143  -0.116  -0.103  0.226   0.21   -0.98  -0.78  -0.474  \\\n",
       "0 -0.0110   0.138  -0.223 -0.1730  0.188  0.284 -0.0522 -0.256   0.129   \n",
       "3  0.2790  -0.197   0.127  0.0973 -0.213 -0.150 -1.3200 -0.994  -1.110   \n",
       "5  0.0569   0.192   0.302  0.2720 -0.484 -0.473  0.3480  0.256  -0.607   \n",
       "6  0.0184   0.101  -0.681 -0.5900  1.530  1.500 -0.5560 -0.428  -0.583   \n",
       "9 -0.0748  -0.432   0.923  0.7930 -1.040 -1.010 -1.9500 -1.560  -0.590   \n",
       "\n",
       "   -0.447  ...  0.925   0.516    0.344  0.906   -1.13  -0.552  0.553  -0.417  \\\n",
       "0   0.427  ... -0.593  0.4520  0.00785 -0.533 -0.0789   0.705  0.906   0.216   \n",
       "3  -1.090  ... -0.640  0.4850  0.29500  0.403 -1.1200  -0.343  0.468  -0.820   \n",
       "5  -0.355  ...  0.206 -0.0599 -1.07000 -0.536  0.8640   0.527  0.282   0.817   \n",
       "6  -0.772  ...  0.124  0.3070  0.35700 -0.380  0.1580   0.846  0.704   0.760   \n",
       "9  -0.575  ... -1.270  1.3600  0.38700  1.290 -1.2100  -2.050 -0.357  -2.540   \n",
       "\n",
       "    0.256  Class Label  \n",
       "0 -0.0723          0.0  \n",
       "3  0.4350          0.0  \n",
       "5 -0.2830          0.0  \n",
       "6 -0.1250          0.0  \n",
       "9  0.7670          0.0  \n",
       "\n",
       "[5 rows x 118 columns]"
      ]
     },
     "execution_count": 18,
     "metadata": {},
     "output_type": "execute_result"
    }
   ],
   "source": [
    "data_train.columns = new_columns\n",
    "data_test.columns = new_columns\n",
    "\n",
    "data_train.head()"
   ]
  },
  {
   "cell_type": "code",
   "execution_count": 19,
   "metadata": {},
   "outputs": [],
   "source": [
    "y_train = data_train['Class Label'].values\n",
    "X_train = data_train.values"
   ]
  },
  {
   "cell_type": "code",
   "execution_count": 20,
   "metadata": {},
   "outputs": [],
   "source": [
    "y_test = data_test['Class Label'].values\n",
    "X_test = data_test.values"
   ]
  },
  {
   "cell_type": "code",
   "execution_count": 21,
   "metadata": {},
   "outputs": [
    {
     "name": "stderr",
     "output_type": "stream",
     "text": [
      "c:\\users\\91998\\appdata\\local\\programs\\python\\python37\\lib\\site-packages\\sklearn\\linear_model\\logistic.py:947: ConvergenceWarning: lbfgs failed to converge. Increase the number of iterations.\n",
      "  \"of iterations.\", ConvergenceWarning)\n"
     ]
    }
   ],
   "source": [
    "from sklearn.linear_model import LogisticRegression\n",
    "\n",
    "clf = LogisticRegression(random_state=0, solver='lbfgs', multi_class='multinomial').fit(X_train, y_train)"
   ]
  },
  {
   "cell_type": "code",
   "execution_count": 22,
   "metadata": {},
   "outputs": [
    {
     "name": "stdout",
     "output_type": "stream",
     "text": [
      "\n",
      "\n",
      "The coefficients\n",
      "The optimized L2 regularization paramater id: [[-5.44112659e-03  6.80650028e-04  3.09151185e-01  2.66953923e-01\n",
      "  -1.84133578e-01 -1.66968937e-01  7.06328168e-02 -9.76875503e-04\n",
      "   5.53104700e-02 -3.22575843e-02 -2.99078374e-02  7.84676694e-02\n",
      "  -1.18637126e-01  1.52506089e-02  2.05448177e-02 -1.68288475e-02\n",
      "  -5.53465474e-02 -5.91006256e-02 -7.16507945e-02 -4.36696153e-02\n",
      "   8.61663605e-02  3.19947405e-02  5.75566827e-02 -2.36848033e-02\n",
      "   1.59849214e-01 -1.73521969e-02  2.18425051e-02 -6.60583536e-02\n",
      "  -6.52913395e-03 -2.83762166e-02 -1.57706221e-02  2.74831894e-02\n",
      "   1.16871222e-01  4.17356520e-02  4.09838155e-02 -3.16392824e-02\n",
      "   4.34994443e-02  3.88653412e-02 -1.36868075e-02 -2.00794914e-02\n",
      "   8.78438585e-03  1.85816938e-02  2.39887017e-02 -2.89970354e-02\n",
      "   8.17872073e-03  1.46585751e-02  5.59168233e-02 -1.06716367e-01\n",
      "  -1.03819009e-01 -3.72279609e-02 -1.05758898e-01  5.48134209e-02\n",
      "   1.74203154e-02 -2.94514578e-02 -2.35360147e-02 -1.97738756e-02\n",
      "  -1.38576927e-02  1.45179425e-01 -1.32841064e-01  4.72822831e-02\n",
      "  -2.76402795e-02  4.62919142e-02  4.17222125e-02  4.84105707e-02\n",
      "   5.15668371e-02 -8.89933617e-03  1.37275562e-01 -5.69475165e-02\n",
      "  -7.31069943e-03  7.91418412e-03 -1.52106444e-02  2.01235585e-02\n",
      "   2.47168159e-02  5.81707060e-03  4.55310023e-03  4.08188607e-03\n",
      "   2.52352023e-02  4.55703184e-02  7.16881021e-03  3.48021044e-02\n",
      "   3.62131826e-02 -2.08225469e-02  1.45393284e-02 -7.23993980e-03\n",
      "   1.56994324e-02  1.49385612e-02  2.94821700e-02  5.96936558e-02\n",
      "   9.89906087e-02 -2.65988049e-02 -2.97292354e-02 -2.93848659e-02\n",
      "  -4.43875362e-02 -4.09123858e-02 -7.07904594e-04 -1.36288413e-01\n",
      "  -2.92442965e-02 -2.03006719e-02 -3.08391992e-02  4.47929367e-02\n",
      "   9.14511310e-02  5.38592412e-02 -9.84717124e-02 -2.93443440e-02\n",
      "   4.14347272e-02 -2.75407303e-02 -4.60361357e-02  1.92264875e-02\n",
      "   4.07218911e-02 -3.62250047e-02 -4.31197976e-02 -9.81130739e-02\n",
      "  -3.79692196e-02 -3.33385271e-02  6.89783603e-03  1.67030010e-02\n",
      "  -3.32208891e-02  5.69723853e+00]]\n",
      "Estimated beta0: \n",
      " [-5.0554142]\n"
     ]
    }
   ],
   "source": [
    "print('\\n')\n",
    "print(\"The coefficients\")\n",
    "print(\"The optimized L2 regularization paramater id:\", clf.coef_)\n",
    "print('Estimated beta0: \\n', clf.intercept_)"
   ]
  },
  {
   "cell_type": "code",
   "execution_count": 23,
   "metadata": {},
   "outputs": [],
   "source": [
    "#scoring\n",
    "clf_y_pred_test = clf.predict(X_test)\n",
    "test_df = pd.DataFrame(clf_y_pred_test)"
   ]
  },
  {
   "cell_type": "code",
   "execution_count": 24,
   "metadata": {},
   "outputs": [
    {
     "name": "stdout",
     "output_type": "stream",
     "text": [
      "\n",
      "\n",
      "malignant:  103.0\n"
     ]
    }
   ],
   "source": [
    "Total = test_df[0].sum()\n",
    "print('\\n')\n",
    "print(\"malignant: \", Total)"
   ]
  },
  {
   "cell_type": "code",
   "execution_count": 25,
   "metadata": {},
   "outputs": [],
   "source": [
    "test_df['All Normal'] = 0"
   ]
  },
  {
   "cell_type": "code",
   "execution_count": 26,
   "metadata": {},
   "outputs": [],
   "source": [
    "# Reset indexes so copy will work\n",
    "test_df = test_df.reset_index(drop=True)\n",
    "data_test = data_test.reset_index(drop=True)\n",
    "test_df['Class Label'] = data_test['Class Label']"
   ]
  },
  {
   "cell_type": "code",
   "execution_count": 27,
   "metadata": {},
   "outputs": [],
   "source": [
    "def parameters(source_data, prediction_data):\n",
    "    false_negative = 0\n",
    "    false_positive = 0\n",
    "    correct_assessment = 0\n",
    "    for result in range(0, len(prediction_data)):\n",
    "        if int(prediction_data[result]) == 1 and int(source_data[result]) == 0:\n",
    "            false_positive += 1\n",
    "        if int(prediction_data[result]) == 0 and int(source_data[result]) == 1:\n",
    "            false_negative += 1\n",
    "        if (int(prediction_data[result]) == 1 and int(source_data[result]) == 1) or (int(prediction_data[result]) == 0 and int(source_data[result]) == 0):\n",
    "            correct_assessment += 1\n",
    "    print ()\n",
    "    print (\"False Positives: \", false_positive)\n",
    "    print (\"False Negatives: \", false_negative)\n",
    "    print (\"Correct Assessment: \", correct_assessment)\n",
    "\n",
    "    print (\"Classification Accuracy: \", 1 - (false_positive + false_negative) / len(source_data))"
   ]
  },
  {
   "cell_type": "code",
   "execution_count": 28,
   "metadata": {},
   "outputs": [
    {
     "name": "stdout",
     "output_type": "stream",
     "text": [
      "\n",
      "\n",
      "Classifier applied to Test Set:\n",
      "\n",
      "False Positives:  0\n",
      "False Negatives:  1\n",
      "Correct Assessment:  17087\n",
      "Classification Accuracy:  0.9999414794007491\n",
      "[[16984     0]\n",
      " [    1   103]]\n"
     ]
    }
   ],
   "source": [
    "# Confusion Matrix\n",
    "from sklearn.metrics import confusion_matrix\n",
    "print('\\n')\n",
    "print('Classifier applied to Test Set:') \n",
    "parameters(test_df['Class Label'], test_df[0])\n",
    "print(confusion_matrix(y_test, clf.predict(X_test)))"
   ]
  },
  {
   "cell_type": "code",
   "execution_count": 29,
   "metadata": {},
   "outputs": [
    {
     "name": "stdout",
     "output_type": "stream",
     "text": [
      "\n",
      "\n",
      "Classifier that predicts all normal:\n",
      "\n",
      "False Positives:  0\n",
      "False Negatives:  104\n",
      "Correct Assessment:  16984\n",
      "Classification Accuracy:  0.9939138576779026\n",
      "[[16984     0]\n",
      " [  104     0]]\n"
     ]
    }
   ],
   "source": [
    "print('\\n')\n",
    "print('Classifier that predicts all normal:')\n",
    "parameters(test_df['Class Label'], test_df['All Normal'])\n",
    "print(confusion_matrix(y_test, test_df['All Normal']))"
   ]
  },
  {
   "cell_type": "code",
   "execution_count": null,
   "metadata": {},
   "outputs": [],
   "source": []
  },
  {
   "cell_type": "markdown",
   "metadata": {},
   "source": [
    "## Question 2: ROC Analysis\n",
    "\n",
    "Another powerful diagnostic tool for class-imbalanced classification tasks is the Receiver Operating Characteristic (ROC) curve. Notice that the default logistic regression classifier in `sklearn` classifies a data point by thresholding the predicted class probability $\\hat{P}(Y=1)$ at 0.5. By using a different threshold, we can adjust the trade-off between the true positive rate (TPR) and false positive rate (FPR) of the classifier. The ROC curve allows us to visualize this trade-off across all possible thresholds.\n",
    "\n",
    "\n",
    "1. Display the ROC curve for the fitted classifier on the *test set*. In the same plot, also display the ROC curve for the all 0's classifier. How do the two curves compare?\n",
    "\n",
    "2.  Compute the highest TPR that can be achieved by the classifier at each of the following FPR's, and the thresholds at which they are achieved. Based on your results, comment on how the threshold influences a classifier's FPR.\n",
    "    - FPR = 0\n",
    "    - FPR = 0.1\n",
    "    - FPR = 0.5\n",
    "    - FPR = 0.9\n",
    "- Suppose a clinician told you that diagnosing a cancer patient as normal is *twice* as critical an error as diagnosing a normal patient as having cancer. Based on this information, what threshold would you recommend the clinician to use? What is the TPR and FPR of the classifier at this threshold? \n",
    "\n",
    "- Compute the area under the ROC curve (AUC) for both the fitted classifier and the all 0's classifier. How does the difference in the AUCs of the two classifiers compare with the difference between their classification accuracies in Question 1, Part 2(A)? \n",
    "\n",
    "*Hint:* You may use the `metrics.roc_curve` function to compute the ROC curve for a classification model and the `metrics.roc_auc_score` function to compute the AUC for the model."
   ]
  },
  {
   "cell_type": "markdown",
   "metadata": {},
   "source": [
    "As explained above, the logistic model is much better and here is the visualization of that. The curve of the logistic is steep\n",
    "getting us to 1 tpr quickly while taking on few false positives. On the otherhand, our all negative model takes on false positives as quickly as it takes on true positives, not as effective for our purposes. the area under the curve for the logistic\n",
    "is 1 whereas the auc for the all negative model is 1/2. This seems to be a better measure of the models accuracy.  The gap in aucs demonstrates the effective difference in these models better than the classification accuracy score, the scores being so close together +.999. The models are in truth very different and AUC reflects this difference.\n",
    "In computing the roc curve, we ended up with arrays of 11 values. 11 fprs, 11 tprs and 11 thresholds.\n",
    "We searched through these lists for the value that was equal to or larger than the given fprs, 0, .1, .5, and .9\n",
    "Our results printed below are the next highest values of fpr that satisfy that condition. Our curve is very steep and goes all the way to 1 quickly. What this tells us is that a threshold just above zero, gives us a tpr of 1.\n",
    "If we were using this for cancer detection, we would use a low threshold, such as FPR: 0.0314413565709 TPR 1.0 Threshold 0.000580536840768(from below). This takes on very little false positives while simulateously giving us all true positives."
   ]
  },
  {
   "cell_type": "code",
   "execution_count": 30,
   "metadata": {},
   "outputs": [
    {
     "data": {
      "image/png": "[encoded data removed]",
      "text/plain": [
       "<Figure size 432x288 with 1 Axes>"
      ]
     },
     "metadata": {
      "needs_background": "light"
     },
     "output_type": "display_data"
    }
   ],
   "source": [
    "from sklearn import metrics\n",
    "##Computing false and true positive rates\n",
    "fpr, tpr,_= metrics.roc_curve(clf.predict(X_train),y_train,drop_intermediate=False)\n",
    "\n",
    "import matplotlib.pyplot as plt\n",
    "plt.figure()\n",
    "##Adding the ROC\n",
    "plt.plot(fpr, tpr, color='red',\n",
    " lw=2, label='ROC curve')\n",
    "##Random FPR and TPR\n",
    "plt.plot([0, 1], [0, 1], color='blue', lw=2, linestyle='--')\n",
    "##Title and label\n",
    "plt.xlabel('FPR')\n",
    "plt.ylabel('TPR')\n",
    "plt.title('ROC curve')\n",
    "plt.show()"
   ]
  },
  {
   "cell_type": "code",
   "execution_count": 31,
   "metadata": {},
   "outputs": [
    {
     "data": {
      "text/plain": [
       "17088"
      ]
     },
     "execution_count": 31,
     "metadata": {},
     "output_type": "execute_result"
    }
   ],
   "source": [
    "len(clf.predict_proba(X_test)[:,1])"
   ]
  },
  {
   "cell_type": "code",
   "execution_count": 32,
   "metadata": {},
   "outputs": [],
   "source": [
    "fprs = [0,.1,.5,.9]\n",
    "fpr, tpr, thresholds= metrics.roc_curve(y_test, clf.predict_proba(X_test)[:,1])"
   ]
  },
  {
   "cell_type": "code",
   "execution_count": 33,
   "metadata": {},
   "outputs": [
    {
     "name": "stdout",
     "output_type": "stream",
     "text": [
      "fpr  [0.00000000e+00 0.00000000e+00 0.00000000e+00 5.88789449e-05\n",
      " 5.88789449e-05 3.47385775e-02 3.48563354e-02 1.16933585e-01\n",
      " 1.17051342e-01 5.95089496e-01 5.95207254e-01 8.25836081e-01\n",
      " 8.25953839e-01 1.00000000e+00]\n"
     ]
    }
   ],
   "source": [
    "print(\"fpr \", fpr)"
   ]
  },
  {
   "cell_type": "code",
   "execution_count": 34,
   "metadata": {},
   "outputs": [
    {
     "name": "stdout",
     "output_type": "stream",
     "text": [
      "tpr  [0.         0.00961538 0.99038462 0.99038462 1.         1.\n",
      " 1.         1.         1.         1.         1.         1.\n",
      " 1.         1.        ]\n"
     ]
    }
   ],
   "source": [
    "print(\"tpr \", tpr)"
   ]
  },
  {
   "cell_type": "code",
   "execution_count": 35,
   "metadata": {},
   "outputs": [
    {
     "name": "stdout",
     "output_type": "stream",
     "text": [
      "thresholds:  [1.99971864e+00 9.99718640e-01 6.52279017e-01 1.83779207e-01\n",
      " 1.20818814e-01 5.07325557e-04 5.06839421e-04 2.35321108e-04\n",
      " 2.35225264e-04 3.35102441e-05 3.34997470e-05 1.07109019e-05\n",
      " 1.07066776e-05 4.84564917e-41]\n"
     ]
    }
   ],
   "source": [
    "print(\"thresholds: \", thresholds)"
   ]
  },
  {
   "cell_type": "code",
   "execution_count": null,
   "metadata": {},
   "outputs": [],
   "source": []
  },
  {
   "cell_type": "markdown",
   "metadata": {
    "collapsed": true
   },
   "source": [
    "## Question 3: Missing data\n",
    "\n",
    "In this problem you are given a different data set, `hw6_dataset_missing.csv`, that is  similar to the one you used above (same column definitions and same conditions), however this data set contains missing values. \n",
    "\n",
    "*Note*: be careful of reading/treating column names and row names in this data set as well, it *may* be different than the first data set.\n",
    "\n",
    "\n",
    "1. Remove all observations that contain and missing values, split the dataset into a 75-25 train-test split, and fit the regularized logistic regression as in Question 1 (use `LogisticRegressionCV` again to retune).  Report the overall classification rate and TPR in the test set.\n",
    "2. Restart with a fresh copy of the data in `hw6_dataset_missing.csv` and impute the missing data via mean imputation.  Split the data 75-25 and fit the regularized logistic regression model.  Report the overall classification rate and TPR in the test set.  \n",
    "3. Again restart with a fresh copy of the data in `hw6_dataset_missing.csv` and impute the missing data via a model-based imputation method. Once again split the data 75-25 and fit the regularized logistic regression model.  Report the overall classification rate and TPR in the test set.  \n",
    "4. Compare the results in the 3 previous parts of this problem.  Prepare a paragraph (5-6 sentences) discussing the results, the computational complexity of the methods, and conjecture and explain why you get the results that you see.\n",
    "\n"
   ]
  },
  {
   "cell_type": "code",
   "execution_count": 44,
   "metadata": {},
   "outputs": [],
   "source": [
    "np.random.seed(9001)\n",
    "df = pd.read_csv('HW6_dataset_missing.csv')\n",
    "msk = np.random.rand(len(df)) < 0.75\n",
    "data_train = df[msk]\n",
    "data_test = df[~msk]\n",
    "data_train = data_train.dropna()\n",
    "data_test = data_test.dropna()"
   ]
  },
  {
   "cell_type": "code",
   "execution_count": 45,
   "metadata": {},
   "outputs": [
    {
     "data": {
      "text/html": [
       "<div>\n",
       "<style scoped>\n",
       "    .dataframe tbody tr th:only-of-type {\n",
       "        vertical-align: middle;\n",
       "    }\n",
       "\n",
       "    .dataframe tbody tr th {\n",
       "        vertical-align: top;\n",
       "    }\n",
       "\n",
       "    .dataframe thead th {\n",
       "        text-align: right;\n",
       "    }\n",
       "</style>\n",
       "<table border=\"1\" class=\"dataframe\">\n",
       "  <thead>\n",
       "    <tr style=\"text-align: right;\">\n",
       "      <th></th>\n",
       "      <th>Unnamed: 0</th>\n",
       "      <th>1</th>\n",
       "      <th>2</th>\n",
       "      <th>3</th>\n",
       "      <th>4</th>\n",
       "      <th>5</th>\n",
       "      <th>6</th>\n",
       "      <th>7</th>\n",
       "      <th>8</th>\n",
       "      <th>9</th>\n",
       "      <th>...</th>\n",
       "      <th>109</th>\n",
       "      <th>110</th>\n",
       "      <th>111</th>\n",
       "      <th>112</th>\n",
       "      <th>113</th>\n",
       "      <th>114</th>\n",
       "      <th>115</th>\n",
       "      <th>116</th>\n",
       "      <th>117</th>\n",
       "      <th>type</th>\n",
       "    </tr>\n",
       "  </thead>\n",
       "  <tbody>\n",
       "    <tr>\n",
       "      <th>0</th>\n",
       "      <td>0</td>\n",
       "      <td>0.1290</td>\n",
       "      <td>-0.2160</td>\n",
       "      <td>0.2880</td>\n",
       "      <td>0.2370</td>\n",
       "      <td>-0.993</td>\n",
       "      <td>-0.9550</td>\n",
       "      <td>-1.620</td>\n",
       "      <td>-1.470</td>\n",
       "      <td>-1.0100</td>\n",
       "      <td>...</td>\n",
       "      <td>-1.1900</td>\n",
       "      <td>1.1000</td>\n",
       "      <td>0.395</td>\n",
       "      <td>2.060</td>\n",
       "      <td>-1.180</td>\n",
       "      <td>-2.8500</td>\n",
       "      <td>-1.290</td>\n",
       "      <td>-2.100</td>\n",
       "      <td>0.0121</td>\n",
       "      <td>0.0</td>\n",
       "    </tr>\n",
       "    <tr>\n",
       "      <th>1</th>\n",
       "      <td>1</td>\n",
       "      <td>0.0989</td>\n",
       "      <td>0.1160</td>\n",
       "      <td>0.3130</td>\n",
       "      <td>0.2810</td>\n",
       "      <td>-0.188</td>\n",
       "      <td>-0.2790</td>\n",
       "      <td>0.173</td>\n",
       "      <td>0.445</td>\n",
       "      <td>0.4320</td>\n",
       "      <td>...</td>\n",
       "      <td>-0.0181</td>\n",
       "      <td>0.2480</td>\n",
       "      <td>-0.869</td>\n",
       "      <td>-0.190</td>\n",
       "      <td>0.451</td>\n",
       "      <td>0.6980</td>\n",
       "      <td>0.363</td>\n",
       "      <td>1.030</td>\n",
       "      <td>-0.2490</td>\n",
       "      <td>0.0</td>\n",
       "    </tr>\n",
       "    <tr>\n",
       "      <th>2</th>\n",
       "      <td>2</td>\n",
       "      <td>0.0215</td>\n",
       "      <td>0.1590</td>\n",
       "      <td>0.5790</td>\n",
       "      <td>0.5020</td>\n",
       "      <td>-0.342</td>\n",
       "      <td>-0.2740</td>\n",
       "      <td>-0.172</td>\n",
       "      <td>-0.164</td>\n",
       "      <td>0.2160</td>\n",
       "      <td>...</td>\n",
       "      <td>0.0702</td>\n",
       "      <td>0.0200</td>\n",
       "      <td>0.397</td>\n",
       "      <td>-0.800</td>\n",
       "      <td>0.173</td>\n",
       "      <td>0.7380</td>\n",
       "      <td>0.465</td>\n",
       "      <td>0.440</td>\n",
       "      <td>-0.2880</td>\n",
       "      <td>0.0</td>\n",
       "    </tr>\n",
       "    <tr>\n",
       "      <th>3</th>\n",
       "      <td>3</td>\n",
       "      <td>-0.2170</td>\n",
       "      <td>-0.3570</td>\n",
       "      <td>-0.0539</td>\n",
       "      <td>-0.0688</td>\n",
       "      <td>0.445</td>\n",
       "      <td>0.6380</td>\n",
       "      <td>0.436</td>\n",
       "      <td>0.351</td>\n",
       "      <td>0.0401</td>\n",
       "      <td>...</td>\n",
       "      <td>NaN</td>\n",
       "      <td>0.0622</td>\n",
       "      <td>0.269</td>\n",
       "      <td>-0.217</td>\n",
       "      <td>-1.030</td>\n",
       "      <td>0.0276</td>\n",
       "      <td>0.472</td>\n",
       "      <td>-0.390</td>\n",
       "      <td>0.3660</td>\n",
       "      <td>0.0</td>\n",
       "    </tr>\n",
       "    <tr>\n",
       "      <th>4</th>\n",
       "      <td>4</td>\n",
       "      <td>-0.0846</td>\n",
       "      <td>0.0166</td>\n",
       "      <td>0.4240</td>\n",
       "      <td>0.3520</td>\n",
       "      <td>-0.259</td>\n",
       "      <td>-0.0947</td>\n",
       "      <td>0.119</td>\n",
       "      <td>-0.162</td>\n",
       "      <td>0.3020</td>\n",
       "      <td>...</td>\n",
       "      <td>0.7190</td>\n",
       "      <td>0.3250</td>\n",
       "      <td>-0.286</td>\n",
       "      <td>-0.528</td>\n",
       "      <td>-0.704</td>\n",
       "      <td>0.8530</td>\n",
       "      <td>0.953</td>\n",
       "      <td>-0.116</td>\n",
       "      <td>-0.1190</td>\n",
       "      <td>0.0</td>\n",
       "    </tr>\n",
       "  </tbody>\n",
       "</table>\n",
       "<p>5 rows × 119 columns</p>\n",
       "</div>"
      ],
      "text/plain": [
       "   Unnamed: 0       1       2       3       4      5       6      7      8  \\\n",
       "0           0  0.1290 -0.2160  0.2880  0.2370 -0.993 -0.9550 -1.620 -1.470   \n",
       "1           1  0.0989  0.1160  0.3130  0.2810 -0.188 -0.2790  0.173  0.445   \n",
       "2           2  0.0215  0.1590  0.5790  0.5020 -0.342 -0.2740 -0.172 -0.164   \n",
       "3           3 -0.2170 -0.3570 -0.0539 -0.0688  0.445  0.6380  0.436  0.351   \n",
       "4           4 -0.0846  0.0166  0.4240  0.3520 -0.259 -0.0947  0.119 -0.162   \n",
       "\n",
       "        9  ...     109     110    111    112    113     114    115    116  \\\n",
       "0 -1.0100  ... -1.1900  1.1000  0.395  2.060 -1.180 -2.8500 -1.290 -2.100   \n",
       "1  0.4320  ... -0.0181  0.2480 -0.869 -0.190  0.451  0.6980  0.363  1.030   \n",
       "2  0.2160  ...  0.0702  0.0200  0.397 -0.800  0.173  0.7380  0.465  0.440   \n",
       "3  0.0401  ...     NaN  0.0622  0.269 -0.217 -1.030  0.0276  0.472 -0.390   \n",
       "4  0.3020  ...  0.7190  0.3250 -0.286 -0.528 -0.704  0.8530  0.953 -0.116   \n",
       "\n",
       "      117  type  \n",
       "0  0.0121   0.0  \n",
       "1 -0.2490   0.0  \n",
       "2 -0.2880   0.0  \n",
       "3  0.3660   0.0  \n",
       "4 -0.1190   0.0  \n",
       "\n",
       "[5 rows x 119 columns]"
      ]
     },
     "execution_count": 45,
     "metadata": {},
     "output_type": "execute_result"
    }
   ],
   "source": [
    "df.head()"
   ]
  },
  {
   "cell_type": "code",
   "execution_count": 46,
   "metadata": {},
   "outputs": [],
   "source": [
    "from sklearn.metrics import accuracy_score\n",
    "from sklearn.metrics import precision_score"
   ]
  },
  {
   "cell_type": "code",
   "execution_count": 47,
   "metadata": {},
   "outputs": [],
   "source": [
    "y_train = data_train['type'].values\n",
    "X_train = data_train.values\n",
    "y_train = y_train.reshape(len(y_train), 1)\n",
    "\n",
    "y_test = data_test['type'].values\n",
    "X_test = data_test.values\n",
    "y_test = y_test.reshape(len(y_test), 1)"
   ]
  },
  {
   "cell_type": "code",
   "execution_count": 48,
   "metadata": {},
   "outputs": [
    {
     "name": "stderr",
     "output_type": "stream",
     "text": [
      "c:\\users\\91998\\appdata\\local\\programs\\python\\python37\\lib\\site-packages\\sklearn\\utils\\validation.py:724: DataConversionWarning: A column-vector y was passed when a 1d array was expected. Please change the shape of y to (n_samples, ), for example using ravel().\n",
      "  y = column_or_1d(y, warn=True)\n",
      "c:\\users\\91998\\appdata\\local\\programs\\python\\python37\\lib\\site-packages\\sklearn\\linear_model\\logistic.py:947: ConvergenceWarning: lbfgs failed to converge. Increase the number of iterations.\n",
      "  \"of iterations.\", ConvergenceWarning)\n"
     ]
    }
   ],
   "source": [
    "from sklearn.linear_model import LogisticRegression\n",
    "\n",
    "clf = LogisticRegression(random_state=0, solver='lbfgs', multi_class='multinomial').fit(X_train, y_train)"
   ]
  },
  {
   "cell_type": "code",
   "execution_count": 49,
   "metadata": {},
   "outputs": [
    {
     "name": "stdout",
     "output_type": "stream",
     "text": [
      "\n",
      "\n",
      "Estimated beta1: \n",
      " [[-4.28070857e-04  5.13161019e-03 -8.24770795e-02  2.62166682e-02\n",
      "   9.71373525e-03 -1.57700561e-01 -1.32623309e-01  3.38311234e-02\n",
      "  -1.65652323e-01  6.14399667e-01  1.63531540e-01 -3.16943672e-01\n",
      "  -2.25668044e-01 -1.86757287e-01  1.83250624e-01 -1.69438387e-01\n",
      "  -9.01949716e-02 -2.24131696e-01 -3.25742611e-01  1.96410965e-02\n",
      "  -5.16950506e-01 -4.33760660e-01 -7.88831844e-02  1.43639449e-01\n",
      "   1.89435541e-01  1.62229394e-01 -6.08755908e-03  1.04805606e-01\n",
      "   4.22719805e-02  1.25644614e-01  2.49082665e-02  2.05272438e-01\n",
      "   2.66141454e-01  7.24761342e-02  9.69340277e-02 -1.74576911e-01\n",
      "  -1.11861524e-01  3.55179686e-02  4.46740966e-02  1.07715299e-01\n",
      "   1.57445398e-01  2.04111837e-02  2.85547557e-02  4.90255145e-02\n",
      "  -8.15037912e-02 -8.39936006e-02 -5.16447975e-02  1.73432556e-01\n",
      "   4.08859263e-02  4.88968852e-02 -1.22702986e-01  4.43732856e-02\n",
      "  -2.36096055e-01 -2.02251049e-02  2.55592515e-02  1.62965873e-02\n",
      "   9.38534258e-03 -1.62747851e-03  1.33159637e-01 -2.04127689e-01\n",
      "   1.09427073e-01 -1.25632983e-01  1.04885546e-01  9.66577293e-02\n",
      "   9.62408175e-02  9.87855404e-02  1.88437306e-03 -2.91930739e-02\n",
      "  -3.25900026e-01 -2.75558183e-02 -1.88171187e-02 -1.11134538e-01\n",
      "  -9.46639735e-03 -9.11183500e-02  1.05926732e-02  7.04482302e-03\n",
      "   1.43991090e-03 -4.37768485e-02 -2.71503315e-01 -1.36870782e-01\n",
      "   7.63971847e-02  5.99098363e-02  2.05190778e-02  1.19882692e-01\n",
      "  -1.20559310e-01 -1.32520398e-01 -9.26392059e-02 -8.85590748e-02\n",
      "  -7.54326113e-02 -5.81722736e-02 -2.10608160e-01 -2.07605436e-01\n",
      "  -2.07713938e-01 -8.37776480e-02  1.83993764e-02 -1.00791831e-01\n",
      "   1.03858111e-01 -4.12916349e-02  2.23409838e-02  6.30374670e-02\n",
      "   9.84067695e-02 -1.07001720e-01 -7.64175373e-02 -7.58948819e-02\n",
      "   1.58483284e-01 -6.00595528e-02  1.84273049e-02 -2.32479393e-01\n",
      "   6.24403141e-02 -3.04700233e-01 -5.86958777e-02 -2.33538968e-01\n",
      "   1.00042675e-01  1.36470133e-01 -2.39014433e-02  1.67111582e-01\n",
      "   2.72022804e-02 -1.09952033e-01  3.72404553e-01]]\n",
      "Estimated beta0: \n",
      " [-2.62657009]\n",
      "\n",
      "\n",
      "Test Set Confusion matrix:\n",
      "[[323   2]\n",
      " [  1   0]]\n",
      "The training classification accuracy is:  1.0\n",
      "The testing classification accuracy is:  0.99079754601227\n",
      "The precision score on the test set is:  0.0\n"
     ]
    }
   ],
   "source": [
    "# L2 Regularization parameter\n",
    "print('\\n')\n",
    "# print(\"The optimized L2 regularization paramater id:\", clf.C_)\n",
    "\n",
    "# The coefficients\n",
    "print('Estimated beta1: \\n', clf.coef_)\n",
    "print('Estimated beta0: \\n', clf.intercept_)\n",
    "\n",
    "# Metrics\n",
    "print('\\n')\n",
    "print('Test Set Confusion matrix:') \n",
    "print(confusion_matrix(y_test, clf.predict(X_test)))\n",
    "\n",
    "train_score = clf.score(X_train, y_train)\n",
    "test_score = clf.score(X_test, y_test)\n",
    "y_prediction = clf.predict(X_test)\n",
    "test_precision = precision_score(y_test, y_prediction)\n",
    "print('The training classification accuracy is: ', train_score)\n",
    "print('The testing classification accuracy is: ', test_score)\n",
    "print('The precision score on the test set is: ', test_precision)"
   ]
  },
  {
   "cell_type": "code",
   "execution_count": 50,
   "metadata": {},
   "outputs": [],
   "source": [
    "#Split the data set into a training set and a testing set\n",
    "np.random.seed(9001)\n",
    "df_2 = pd.read_csv('HW6_dataset_missing.csv')\n",
    "msk = np.random.rand(len(df)) < 0.75\n",
    "data_train_2 = df_2[msk]\n",
    "data_test_2 = df_2[~msk]"
   ]
  },
  {
   "cell_type": "code",
   "execution_count": 51,
   "metadata": {},
   "outputs": [
    {
     "name": "stderr",
     "output_type": "stream",
     "text": [
      "c:\\users\\91998\\appdata\\local\\programs\\python\\python37\\lib\\site-packages\\ipykernel_launcher.py:2: SettingWithCopyWarning: \n",
      "A value is trying to be set on a copy of a slice from a DataFrame.\n",
      "Try using .loc[row_indexer,col_indexer] = value instead\n",
      "\n",
      "See the caveats in the documentation: http://pandas.pydata.org/pandas-docs/stable/indexing.html#indexing-view-versus-copy\n",
      "  \n",
      "c:\\users\\91998\\appdata\\local\\programs\\python\\python37\\lib\\site-packages\\ipykernel_launcher.py:4: SettingWithCopyWarning: \n",
      "A value is trying to be set on a copy of a slice from a DataFrame.\n",
      "Try using .loc[row_indexer,col_indexer] = value instead\n",
      "\n",
      "See the caveats in the documentation: http://pandas.pydata.org/pandas-docs/stable/indexing.html#indexing-view-versus-copy\n",
      "  after removing the cwd from sys.path.\n"
     ]
    }
   ],
   "source": [
    "for column in data_train_2:\n",
    "    data_train_2[column] = data_train_2[column].fillna(data_train_2[column].mean())\n",
    "for column in data_test_2:\n",
    "    data_test_2[column] = data_test_2[column].fillna(data_train_2[column].mean())\n",
    "    \n",
    "y_train = data_train_2['type'].values\n",
    "X_train = data_train_2.values\n",
    "y_train = y_train.reshape(len(y_train), 1)\n",
    "\n",
    "y_test = data_test_2['type'].values\n",
    "X_test = data_test_2.values\n",
    "y_test = y_test.reshape(len(y_test), 1)"
   ]
  },
  {
   "cell_type": "code",
   "execution_count": 52,
   "metadata": {},
   "outputs": [
    {
     "name": "stderr",
     "output_type": "stream",
     "text": [
      "c:\\users\\91998\\appdata\\local\\programs\\python\\python37\\lib\\site-packages\\sklearn\\utils\\validation.py:724: DataConversionWarning: A column-vector y was passed when a 1d array was expected. Please change the shape of y to (n_samples, ), for example using ravel().\n",
      "  y = column_or_1d(y, warn=True)\n"
     ]
    },
    {
     "name": "stdout",
     "output_type": "stream",
     "text": [
      "\n",
      "\n",
      "Estimated beta1: \n",
      " [[-1.92532837e-05 -1.56960984e-03 -2.27044811e-03  1.02075257e-01\n",
      "   7.52135199e-02 -1.97448716e-01 -1.93296530e-01 -4.14300683e-02\n",
      "  -8.75309670e-02  3.37572688e-01  2.06588251e-01  6.11660782e-02\n",
      "   1.30553642e-01 -1.09401483e-01  3.08401259e-02 -4.06790471e-02\n",
      "  -9.94590692e-02  2.56894787e-02 -2.84233022e-02  2.65786935e-02\n",
      "  -1.30434987e-01 -1.57025304e-01 -1.93319802e-01 -1.85003475e-03\n",
      "   1.54142098e-01  7.93889274e-02  7.57170435e-03 -5.12348497e-02\n",
      "  -1.25029888e-03 -4.91336128e-02  1.88246179e-02  4.60987188e-02\n",
      "  -9.80520974e-03 -2.08825004e-02 -2.51326117e-03 -1.95686885e-01\n",
      "   4.79964004e-02 -9.86011201e-03 -9.33835619e-03  7.65359933e-03\n",
      "   1.00378806e-01 -8.20776777e-02 -8.65363393e-02 -8.67137693e-02\n",
      "   3.51383470e-02  9.25343339e-02  8.98902113e-02 -7.75095798e-02\n",
      "  -4.24531880e-02 -3.23755848e-02 -1.93000520e-02 -2.91143438e-02\n",
      "  -7.78418296e-02 -9.18675920e-02 -2.34304941e-02 -2.14217350e-02\n",
      "  -1.80782318e-02 -1.54508581e-02  1.00123559e-01 -1.04775345e-01\n",
      "   7.96685345e-02 -2.10883662e-02  7.95103398e-02  8.16358754e-02\n",
      "   8.41554492e-02  8.68734653e-02 -4.85827279e-03  2.25593170e-02\n",
      "  -8.76677219e-02 -1.45269406e-02 -1.09781018e-02 -1.57628831e-02\n",
      "  -8.42065263e-03 -5.14326662e-02  8.34870426e-02  8.03710745e-02\n",
      "   7.67679355e-02  9.48385630e-02  7.48642180e-02 -8.82270207e-02\n",
      "   3.65087856e-03 -3.19782060e-03  1.77110342e-02  2.00197389e-02\n",
      "  -5.77108583e-02 -6.57241854e-02  5.94458705e-03  5.32385088e-03\n",
      "   4.64527774e-03 -6.37305482e-02 -4.33815982e-02 -4.22444326e-02\n",
      "  -4.12072938e-02 -6.61523978e-02  1.47979546e-01 -2.72622600e-02\n",
      "  -5.74878864e-03 -8.69665114e-02  6.51260530e-02  2.30908836e-02\n",
      "  -2.88419519e-02 -5.14875480e-02 -4.65669700e-02 -9.69099136e-02\n",
      "   3.49323459e-03 -1.39673452e-01 -1.28251610e-01 -6.67501855e-02\n",
      "   8.95122640e-02  4.57617358e-02 -1.05941174e-01 -1.46498222e-01\n",
      "   1.76536990e-02  6.26949197e-04 -4.01592955e-03  8.62380553e-03\n",
      "   4.98984203e-02 -5.10237129e-02  6.11562090e-01]]\n",
      "Estimated beta0: \n",
      " [-3.55356286]\n",
      "\n",
      "\n",
      "Test Set Confusion matrix:\n",
      "[[6066    8]\n",
      " [  38   13]]\n",
      "The training classification accuracy is:  0.9948606548691321\n",
      "The testing classification accuracy is:  0.9924897959183674\n",
      "The precision score on the test set is:  0.6190476190476191\n"
     ]
    },
    {
     "name": "stderr",
     "output_type": "stream",
     "text": [
      "c:\\users\\91998\\appdata\\local\\programs\\python\\python37\\lib\\site-packages\\sklearn\\linear_model\\logistic.py:947: ConvergenceWarning: lbfgs failed to converge. Increase the number of iterations.\n",
      "  \"of iterations.\", ConvergenceWarning)\n"
     ]
    }
   ],
   "source": [
    "from sklearn.linear_model import LogisticRegression\n",
    "\n",
    "clf = LogisticRegression(random_state=0, solver='lbfgs', multi_class='multinomial').fit(X_train, y_train)\n",
    "\n",
    "\n",
    "# L2 Regularization parameter\n",
    "print('\\n')\n",
    "# print(\"The optimized L2 regularization paramater id:\", clf.C_)\n",
    "\n",
    "# The coefficients\n",
    "print('Estimated beta1: \\n', clf.coef_)\n",
    "print('Estimated beta0: \\n', clf.intercept_)\n",
    "\n",
    "# Metrics\n",
    "print('\\n')\n",
    "print('Test Set Confusion matrix:') \n",
    "print(confusion_matrix(y_test, clf.predict(X_test)))\n",
    "\n",
    "train_score = clf.score(X_train, y_train)\n",
    "test_score = clf.score(X_test, y_test)\n",
    "y_prediction = clf.predict(X_test)\n",
    "test_precision = precision_score(y_test, y_prediction)\n",
    "print('The training classification accuracy is: ', train_score)\n",
    "print('The testing classification accuracy is: ', test_score)\n",
    "print('The precision score on the test set is: ', test_precision)\n"
   ]
  },
  {
   "cell_type": "code",
   "execution_count": null,
   "metadata": {},
   "outputs": [],
   "source": []
  },
  {
   "cell_type": "markdown",
   "metadata": {},
   "source": [
    "Summary\n",
    "\n",
    "Dropping all rows with NaN\n",
    "Test Set Confusion matrix:\n",
    "[[325   0]\n",
    " [  1   0]]\n",
    "The training classification accuracy is:  0.998198198198\n",
    "The testing classification accuracy is:  0.996932515337\n",
    "The precision score on the test set is:  0.0\n",
    "\n",
    "Mean Imputation\n",
    "Test Set Confusion matrix:\n",
    "[[6074    0]\n",
    " [   3   48]]\n",
    "The training classification accuracy is:  1.0\n",
    "The testing classification accuracy is:  0.999510204082\n",
    "The precision score on the test set is:  1.0"
   ]
  },
  {
   "cell_type": "markdown",
   "metadata": {},
   "source": [
    "Using the mean imputation increased classification accuracy considerably over the first model. Although the 'classification accuracy' score was very high on the first model, this is due to the very small percentage of patients who have the cancer. Given the limited data (325 remaining complete rows), there were no positive predictions. In other words, the same as our all 0 model from the previous question. This is terrible if we want to detect rare cancers. What we gain in accuracy is a tradeoff with computational complexity. The second model iterates over each column and each value computing means. The final model performs multiple regression iteratively and is by far the most computationally complex of the three models."
   ]
  },
  {
   "cell_type": "markdown",
   "metadata": {},
   "source": [
    "## APCOMP209a - Homework Question"
   ]
  },
  {
   "cell_type": "markdown",
   "metadata": {
    "collapsed": true
   },
   "source": [
    "\n",
    "This problem walks you through the derivation of the **likelihood equations** for a generalized linear model (GLM). Suppose that the random component of the GLM is in the univariate natural exponential family, so that\n",
    "$$f(y_i|\\theta_i) = h(y_i) e^{y_i\\theta_i - b(\\theta_i)}$$\n",
    "Define the individual log-likelihood for each observation $i$ as\n",
    "$$l_i(\\theta_i) \\equiv \\log f(y_i|\\theta_i)$$\n",
    "with linear predictor\n",
    "$$\\eta_i = x_i^T\\beta = g(\\mu_i)$$\n",
    "for some link function $g$ and where $\\mu_i=E(Y_i)$.\n",
    "\n",
    "1. Use the above expressions to write a simplified expression for the log-likelihood $l(\\theta)$ for the entire dataset, $y_1, \\dots, y_n$.\n",
    "\n",
    "2. Use the chain rule to express $\\frac{\\partial l_i}{\\partial \\beta_j}$ in terms of the derivatives of $l_i, \\theta_i, \\mu_i$, and $\\eta_i$. (*Hint*: Think carefully about which variables are related to which, and in what way. For example, for which of the above variables do you know the derivative with respect to $\\beta_j$?)\n",
    "\n",
    "3. Compute the derivatives for $\\frac{\\partial l_i}{\\partial \\theta_i}$ and $\\frac{\\partial \\eta_i}{\\partial \\beta_j}$.\n",
    "\n",
    "4. Express $\\mu_i$ in terms of $\\theta_i$, and use this relationship to compute $\\frac{\\partial \\theta_i}{\\partial \\mu_i}$. (\\emph{Hint}: Recall the cumulant function of a natural exponential family, and assume that you can write $\\partial f/\\partial g = (\\partial g / \\partial f)^{-1}$.)\n",
    "\n",
    "5. Express $\\eta_i$ in terms of $\\mu_i$. Using the same hint as the above, compute $\\frac{\\partial \\mu_i}{\\partial \\eta_i}$.\n",
    "\n",
    "6. Put all of the above parts together to write an expression for $\\frac{\\partial l}{\\partial \\beta_j}$. Use matrix notation to write this expression as\n",
    "$$\\nabla_{\\beta} l(\\beta) = XDV^{-1}(Y - \\mu) = 0$$\n",
    "That is, compute the matrices $D$ and $V$ such that this equation holds.\n",
    "\n",
    "7. If we use the canonical link function, how do your answers to part (6) simplify?\n",
    "\n",
    "8. Finally, compute the above likelihood equations in the case of logistic regression, and show that this is equivalent to the solution given in lecture.\n"
   ]
  },
  {
   "cell_type": "code",
   "execution_count": null,
   "metadata": {
    "collapsed": true
   },
   "outputs": [],
   "source": []
  }
 ],
 "metadata": {
  "anaconda-cloud": {},
  "kernelspec": {
   "display_name": "Python 3",
   "language": "python",
   "name": "python3"
  },
  "language_info": {
   "codemirror_mode": {
    "name": "ipython",
    "version": 3
   },
   "file_extension": ".py",
   "mimetype": "text/x-python",
   "name": "python",
   "nbconvert_exporter": "python",
   "pygments_lexer": "ipython3",
   "version": "3.7.0"
  }
 },
 "nbformat": 4,
 "nbformat_minor": 1
}
